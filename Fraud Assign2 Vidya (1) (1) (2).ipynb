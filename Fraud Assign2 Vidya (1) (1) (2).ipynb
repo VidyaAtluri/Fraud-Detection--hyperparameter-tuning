{
 "cells": [
  {
   "cell_type": "code",
   "execution_count": 1,
   "metadata": {
    "colab": {
     "base_uri": "https://localhost:8080/"
    },
    "executionInfo": {
     "elapsed": 2410,
     "status": "ok",
     "timestamp": 1664149762217,
     "user": {
      "displayName": "shahnaz khan",
      "userId": "14605807324218282944"
     },
     "user_tz": 420
    },
    "id": "w1hDk9hDvOH7",
    "outputId": "4b9f21e9-1be3-48d8-e666-a459eb878195",
    "scrolled": true
   },
   "outputs": [],
   "source": [
    "import pandas as pd\n",
    "from sklearn.preprocessing import label_binarize\n",
    "import numpy as np\n",
    "from sklearn.model_selection import train_test_split\n",
    "from sklearn.ensemble import RandomForestClassifier\n",
    "from sklearn.tree import DecisionTreeClassifier\n",
    "from sklearn.model_selection import GridSearchCV\n",
    "from sklearn.model_selection import RandomizedSearchCV\n",
    "from sklearn.model_selection import cross_val_score\n",
    "from sklearn.metrics import classification_report, confusion_matrix\n",
    "from sklearn.ensemble import GradientBoostingClassifier\n",
    "from sklearn.preprocessing import OneHotEncoder\n",
    "from sklearn import metrics #Import scikit-learn metrics module for accuracy calculation\n",
    "\n",
    "import warnings\n",
    "warnings.filterwarnings(\"ignore\")\n",
    "#Please ignore the warnings with version change\n",
    "\n"
   ]
  },
  {
   "cell_type": "code",
   "execution_count": 2,
   "metadata": {
    "colab": {
     "base_uri": "https://localhost:8080/"
    },
    "executionInfo": {
     "elapsed": 257,
     "status": "ok",
     "timestamp": 1664149767320,
     "user": {
      "displayName": "shahnaz khan",
      "userId": "14605807324218282944"
     },
     "user_tz": 420
    },
    "id": "BMwGQK7KAd7T",
    "outputId": "572b7697-cdd3-4e00-cd30-b3c417c9ed79"
   },
   "outputs": [
    {
     "name": "stdout",
     "output_type": "stream",
     "text": [
      "(2999, 32)\n",
      "(12918, 32)\n"
     ]
    }
   ],
   "source": [
    "trainfile = r'Insurance Fraud - TRAIN-3000.csv'\n",
    "trainData = pd.read_csv(trainfile) #creates a dataframe\n",
    "testfile = r'Insurance Fraud -TEST-12900.csv'\n",
    "testData = pd.read_csv(testfile)  #creates a dataframe\n",
    "\n",
    "\n",
    "print(trainData.shape)\n",
    "print(testData.shape)"
   ]
  },
  {
   "cell_type": "code",
   "execution_count": 3,
   "metadata": {
    "colab": {
     "base_uri": "https://localhost:8080/"
    },
    "executionInfo": {
     "elapsed": 197,
     "status": "ok",
     "timestamp": 1664149771207,
     "user": {
      "displayName": "shahnaz khan",
      "userId": "14605807324218282944"
     },
     "user_tz": 420
    },
    "id": "yeAborUUmG6l",
    "outputId": "8c529494-2dff-44bc-e257-42aaf6699d88"
   },
   "outputs": [
    {
     "name": "stdout",
     "output_type": "stream",
     "text": [
      "<class 'pandas.core.frame.DataFrame'>\n",
      "RangeIndex: 2999 entries, 0 to 2998\n",
      "Data columns (total 32 columns):\n",
      " #   Column                Non-Null Count  Dtype \n",
      "---  ------                --------------  ----- \n",
      " 0   MONTH                 2999 non-null   object\n",
      " 1   WEEKOFMONTH           2999 non-null   int64 \n",
      " 2   DAYOFWEEK             2999 non-null   object\n",
      " 3   MAKE                  2999 non-null   object\n",
      " 4   ACCIDENTAREA          2999 non-null   object\n",
      " 5   DAYOFWEEKCLAIMED      2999 non-null   object\n",
      " 6   MONTHCLAIMED          2999 non-null   object\n",
      " 7   WEEKOFMONTHCLAIMED    2999 non-null   int64 \n",
      " 8   SEX                   2999 non-null   object\n",
      " 9   MARITALSTATUS         2999 non-null   object\n",
      " 10  AGE                   2999 non-null   int64 \n",
      " 11  FAULT                 2999 non-null   object\n",
      " 12  POLICYTYPE            2999 non-null   object\n",
      " 13  VEHICLECATEGORY       2999 non-null   object\n",
      " 14  VEHICLEPRICE          2999 non-null   object\n",
      " 15  REPNUMBER             2999 non-null   int64 \n",
      " 16  DEDUCTIBLE            2999 non-null   int64 \n",
      " 17  DRIVERRATING          2999 non-null   int64 \n",
      " 18  DAYS_POLICY_ACCIDENT  2999 non-null   object\n",
      " 19  DAYS_POLICY_CLAIM     2999 non-null   object\n",
      " 20  PASTNUMBEROFCLAIMS    2999 non-null   object\n",
      " 21  AGEOFVEHICLE          2999 non-null   object\n",
      " 22  AGEOFPOLICYHOLDER     2999 non-null   object\n",
      " 23  POLICEREPORTFILED     2999 non-null   object\n",
      " 24  WITNESSPRESENT        2999 non-null   object\n",
      " 25  AGENTTYPE             2999 non-null   object\n",
      " 26  NUMBEROFSUPPLIMENTS   2999 non-null   object\n",
      " 27  ADDRESSCHANGE_CLAIM   2999 non-null   object\n",
      " 28  NUMBEROFCARS          2999 non-null   object\n",
      " 29  YEAR                  2999 non-null   int64 \n",
      " 30  BASEPOLICY            2999 non-null   object\n",
      " 31  FRAUDFOUND            2999 non-null   object\n",
      "dtypes: int64(7), object(25)\n",
      "memory usage: 749.9+ KB\n"
     ]
    }
   ],
   "source": [
    "trainData.info()"
   ]
  },
  {
   "cell_type": "code",
   "execution_count": 4,
   "metadata": {
    "colab": {
     "base_uri": "https://localhost:8080/"
    },
    "executionInfo": {
     "elapsed": 231,
     "status": "ok",
     "timestamp": 1664149775077,
     "user": {
      "displayName": "shahnaz khan",
      "userId": "14605807324218282944"
     },
     "user_tz": 420
    },
    "id": "iiAqyaetmG9u",
    "outputId": "f472b0e7-3268-4b70-af88-4093706a4a1c"
   },
   "outputs": [
    {
     "name": "stdout",
     "output_type": "stream",
     "text": [
      "<class 'pandas.core.frame.DataFrame'>\n",
      "RangeIndex: 12918 entries, 0 to 12917\n",
      "Data columns (total 32 columns):\n",
      " #   Column                Non-Null Count  Dtype \n",
      "---  ------                --------------  ----- \n",
      " 0   MONTH                 12918 non-null  object\n",
      " 1   WEEKOFMONTH           12918 non-null  int64 \n",
      " 2   DAYOFWEEK             12918 non-null  object\n",
      " 3   MAKE                  12918 non-null  object\n",
      " 4   ACCIDENTAREA          12918 non-null  object\n",
      " 5   DAYOFWEEKCLAIMED      12918 non-null  object\n",
      " 6   MONTHCLAIMED          12918 non-null  object\n",
      " 7   WEEKOFMONTHCLAIMED    12918 non-null  int64 \n",
      " 8   SEX                   12918 non-null  object\n",
      " 9   MARITALSTATUS         12918 non-null  object\n",
      " 10  AGE                   12918 non-null  int64 \n",
      " 11  FAULT                 12918 non-null  object\n",
      " 12  POLICYTYPE            12918 non-null  object\n",
      " 13  VEHICLECATEGORY       12918 non-null  object\n",
      " 14  VEHICLEPRICE          12918 non-null  object\n",
      " 15  REPNUMBER             12918 non-null  int64 \n",
      " 16  DEDUCTIBLE            12918 non-null  int64 \n",
      " 17  DRIVERRATING          12918 non-null  int64 \n",
      " 18  DAYS_POLICY_ACCIDENT  12918 non-null  object\n",
      " 19  DAYS_POLICY_CLAIM     12918 non-null  object\n",
      " 20  PASTNUMBEROFCLAIMS    12918 non-null  object\n",
      " 21  AGEOFVEHICLE          12918 non-null  object\n",
      " 22  AGEOFPOLICYHOLDER     12918 non-null  object\n",
      " 23  POLICEREPORTFILED     12918 non-null  object\n",
      " 24  WITNESSPRESENT        12918 non-null  object\n",
      " 25  AGENTTYPE             12918 non-null  object\n",
      " 26  NUMBEROFSUPPLIMENTS   12918 non-null  object\n",
      " 27  ADDRESSCHANGE_CLAIM   12918 non-null  object\n",
      " 28  NUMBEROFCARS          12918 non-null  object\n",
      " 29  YEAR                  12918 non-null  int64 \n",
      " 30  BASEPOLICY            12918 non-null  object\n",
      " 31  FRAUDFOUND            12918 non-null  object\n",
      "dtypes: int64(7), object(25)\n",
      "memory usage: 3.2+ MB\n"
     ]
    }
   ],
   "source": [
    "testData.info()"
   ]
  },
  {
   "cell_type": "code",
   "execution_count": 5,
   "metadata": {
    "colab": {
     "base_uri": "https://localhost:8080/"
    },
    "executionInfo": {
     "elapsed": 156,
     "status": "ok",
     "timestamp": 1664149779292,
     "user": {
      "displayName": "shahnaz khan",
      "userId": "14605807324218282944"
     },
     "user_tz": 420
    },
    "id": "sgRlMC3dmHAl",
    "outputId": "0345f60a-58e7-4699-c8c0-0a73fc675c42"
   },
   "outputs": [
    {
     "name": "stdout",
     "output_type": "stream",
     "text": [
      "['MONTH', 'WEEKOFMONTH', 'DAYOFWEEK', 'MAKE', 'ACCIDENTAREA', 'DAYOFWEEKCLAIMED', 'MONTHCLAIMED', 'WEEKOFMONTHCLAIMED', 'SEX', 'MARITALSTATUS', 'AGE', 'FAULT', 'POLICYTYPE', 'VEHICLECATEGORY', 'VEHICLEPRICE', 'REPNUMBER', 'DEDUCTIBLE', 'DRIVERRATING', 'DAYS_POLICY_ACCIDENT', 'DAYS_POLICY_CLAIM', 'PASTNUMBEROFCLAIMS', 'AGEOFVEHICLE', 'AGEOFPOLICYHOLDER', 'POLICEREPORTFILED', 'WITNESSPRESENT', 'AGENTTYPE', 'NUMBEROFSUPPLIMENTS', 'ADDRESSCHANGE_CLAIM', 'NUMBEROFCARS', 'YEAR', 'BASEPOLICY', 'FRAUDFOUND']\n",
      "['MONTH', 'WEEKOFMONTH', 'DAYOFWEEK', 'MAKE', 'ACCIDENTAREA', 'DAYOFWEEKCLAIMED', 'MONTHCLAIMED', 'WEEKOFMONTHCLAIMED', 'SEX', 'MARITALSTATUS', 'AGE', 'FAULT', 'POLICYTYPE', 'VEHICLECATEGORY', 'VEHICLEPRICE', 'REPNUMBER', 'DEDUCTIBLE', 'DRIVERRATING', 'DAYS_POLICY_ACCIDENT', 'DAYS_POLICY_CLAIM', 'PASTNUMBEROFCLAIMS', 'AGEOFVEHICLE', 'AGEOFPOLICYHOLDER', 'POLICEREPORTFILED', 'WITNESSPRESENT', 'AGENTTYPE', 'NUMBEROFSUPPLIMENTS', 'ADDRESSCHANGE_CLAIM', 'NUMBEROFCARS', 'YEAR', 'BASEPOLICY', 'FRAUDFOUND']\n"
     ]
    }
   ],
   "source": [
    "#To get list of names of all Columns from a dataframe\n",
    "\n",
    "TrainCols = list(trainData.columns.values)\n",
    "TestCols = list(testData.columns.values)\n",
    "print(TrainCols)\n",
    "print(TestCols)"
   ]
  },
  {
   "cell_type": "code",
   "execution_count": 6,
   "metadata": {
    "colab": {
     "base_uri": "https://localhost:8080/"
    },
    "executionInfo": {
     "elapsed": 144,
     "status": "ok",
     "timestamp": 1664149781754,
     "user": {
      "displayName": "shahnaz khan",
      "userId": "14605807324218282944"
     },
     "user_tz": 420
    },
    "id": "Zb-DiyYYmHCu",
    "outputId": "6d7c25e8-e737-489c-85c3-a02d92281c49"
   },
   "outputs": [
    {
     "name": "stdout",
     "output_type": "stream",
     "text": [
      "Train Set shape:\n",
      "(2999, 31)\n",
      "(2999, 1)\n",
      "Test Set shape:\n",
      "(12918, 31)\n",
      "(12918, 1)\n"
     ]
    }
   ],
   "source": [
    "# Seperate Target column from Train Data\n",
    "Xtrain = trainData[TrainCols[0:len(TrainCols)-1]].copy()\n",
    "Ytrain = trainData[['FRAUDFOUND']].copy()\n",
    "print(\"Train Set shape:\")\n",
    "print(Xtrain.shape)\n",
    "print(Ytrain.shape)\n",
    "Xtest = testData[TestCols[0:len(TestCols)-1]].copy()\n",
    "Ytest = testData[['FRAUDFOUND']].copy()\n",
    "print(\"Test Set shape:\")\n",
    "print(Xtest.shape)\n",
    "print(Ytest.shape)"
   ]
  },
  {
   "cell_type": "code",
   "execution_count": 7,
   "metadata": {
    "executionInfo": {
     "elapsed": 151,
     "status": "ok",
     "timestamp": 1664149784410,
     "user": {
      "displayName": "shahnaz khan",
      "userId": "14605807324218282944"
     },
     "user_tz": 420
    },
    "id": "pPVtdv1jmHFU"
   },
   "outputs": [],
   "source": [
    "#List of Categorical Features\n",
    "categoricalFeatures = [\"MONTH\", \"DAYOFWEEK\", \"DAYOFWEEKCLAIMED\", \"VEHICLEPRICE\", \"ADDRESSCHANGE_CLAIM\", \"WITNESSPRESENT\", \"POLICEREPORTFILED\", \"NUMBEROFCARS\", \"DAYS_POLICY_ACCIDENT\", \"MAKE\", \"NUMBEROFSUPPLIMENTS\", \"AGEOFPOLICYHOLDER\", \"DAYS_POLICY_CLAIM\", \"AGEOFVEHICLE\", \"PASTNUMBEROFCLAIMS\", \"ACCIDENTAREA\", \"MONTHCLAIMED\", \"SEX\", \"MARITALSTATUS\", \"FAULT\", \"POLICYTYPE\", \"VEHICLECATEGORY\", \"AGENTTYPE\", \"BASEPOLICY\" ]"
   ]
  },
  {
   "cell_type": "code",
   "execution_count": 8,
   "metadata": {
    "colab": {
     "base_uri": "https://localhost:8080/",
     "height": 317
    },
    "executionInfo": {
     "elapsed": 303,
     "status": "ok",
     "timestamp": 1664149787041,
     "user": {
      "displayName": "shahnaz khan",
      "userId": "14605807324218282944"
     },
     "user_tz": 420
    },
    "id": "lyattYm7mHH5",
    "outputId": "c7acb550-2fc0-458d-8465-7f0408866cbb"
   },
   "outputs": [
    {
     "data": {
      "text/html": [
       "<div>\n",
       "<style scoped>\n",
       "    .dataframe tbody tr th:only-of-type {\n",
       "        vertical-align: middle;\n",
       "    }\n",
       "\n",
       "    .dataframe tbody tr th {\n",
       "        vertical-align: top;\n",
       "    }\n",
       "\n",
       "    .dataframe thead th {\n",
       "        text-align: right;\n",
       "    }\n",
       "</style>\n",
       "<table border=\"1\" class=\"dataframe\">\n",
       "  <thead>\n",
       "    <tr style=\"text-align: right;\">\n",
       "      <th></th>\n",
       "      <th>WEEKOFMONTH</th>\n",
       "      <th>WEEKOFMONTHCLAIMED</th>\n",
       "      <th>AGE</th>\n",
       "      <th>REPNUMBER</th>\n",
       "      <th>DEDUCTIBLE</th>\n",
       "      <th>DRIVERRATING</th>\n",
       "      <th>YEAR</th>\n",
       "      <th>x0_Apr</th>\n",
       "      <th>x0_Aug</th>\n",
       "      <th>x0_Dec</th>\n",
       "      <th>...</th>\n",
       "      <th>x20_Utility-Collision</th>\n",
       "      <th>x20_Utility-Liability</th>\n",
       "      <th>x21_Sedan</th>\n",
       "      <th>x21_Sport</th>\n",
       "      <th>x21_Utility</th>\n",
       "      <th>x22_External</th>\n",
       "      <th>x22_Internal</th>\n",
       "      <th>x23_All_Perils</th>\n",
       "      <th>x23_Collision</th>\n",
       "      <th>x23_Liability</th>\n",
       "    </tr>\n",
       "  </thead>\n",
       "  <tbody>\n",
       "    <tr>\n",
       "      <th>752</th>\n",
       "      <td>4</td>\n",
       "      <td>2</td>\n",
       "      <td>30</td>\n",
       "      <td>10</td>\n",
       "      <td>400</td>\n",
       "      <td>1</td>\n",
       "      <td>1994</td>\n",
       "      <td>0.0</td>\n",
       "      <td>1.0</td>\n",
       "      <td>0.0</td>\n",
       "      <td>...</td>\n",
       "      <td>0.0</td>\n",
       "      <td>0.0</td>\n",
       "      <td>1.0</td>\n",
       "      <td>0.0</td>\n",
       "      <td>0.0</td>\n",
       "      <td>1.0</td>\n",
       "      <td>0.0</td>\n",
       "      <td>0.0</td>\n",
       "      <td>1.0</td>\n",
       "      <td>0.0</td>\n",
       "    </tr>\n",
       "    <tr>\n",
       "      <th>2155</th>\n",
       "      <td>5</td>\n",
       "      <td>1</td>\n",
       "      <td>34</td>\n",
       "      <td>14</td>\n",
       "      <td>400</td>\n",
       "      <td>2</td>\n",
       "      <td>1995</td>\n",
       "      <td>0.0</td>\n",
       "      <td>0.0</td>\n",
       "      <td>0.0</td>\n",
       "      <td>...</td>\n",
       "      <td>0.0</td>\n",
       "      <td>0.0</td>\n",
       "      <td>0.0</td>\n",
       "      <td>1.0</td>\n",
       "      <td>0.0</td>\n",
       "      <td>1.0</td>\n",
       "      <td>0.0</td>\n",
       "      <td>0.0</td>\n",
       "      <td>0.0</td>\n",
       "      <td>1.0</td>\n",
       "    </tr>\n",
       "    <tr>\n",
       "      <th>2177</th>\n",
       "      <td>2</td>\n",
       "      <td>3</td>\n",
       "      <td>30</td>\n",
       "      <td>7</td>\n",
       "      <td>400</td>\n",
       "      <td>4</td>\n",
       "      <td>1996</td>\n",
       "      <td>0.0</td>\n",
       "      <td>0.0</td>\n",
       "      <td>0.0</td>\n",
       "      <td>...</td>\n",
       "      <td>0.0</td>\n",
       "      <td>0.0</td>\n",
       "      <td>1.0</td>\n",
       "      <td>0.0</td>\n",
       "      <td>0.0</td>\n",
       "      <td>1.0</td>\n",
       "      <td>0.0</td>\n",
       "      <td>1.0</td>\n",
       "      <td>0.0</td>\n",
       "      <td>0.0</td>\n",
       "    </tr>\n",
       "    <tr>\n",
       "      <th>2812</th>\n",
       "      <td>4</td>\n",
       "      <td>2</td>\n",
       "      <td>42</td>\n",
       "      <td>12</td>\n",
       "      <td>400</td>\n",
       "      <td>2</td>\n",
       "      <td>1996</td>\n",
       "      <td>0.0</td>\n",
       "      <td>0.0</td>\n",
       "      <td>0.0</td>\n",
       "      <td>...</td>\n",
       "      <td>0.0</td>\n",
       "      <td>0.0</td>\n",
       "      <td>0.0</td>\n",
       "      <td>1.0</td>\n",
       "      <td>0.0</td>\n",
       "      <td>1.0</td>\n",
       "      <td>0.0</td>\n",
       "      <td>0.0</td>\n",
       "      <td>0.0</td>\n",
       "      <td>1.0</td>\n",
       "    </tr>\n",
       "    <tr>\n",
       "      <th>2304</th>\n",
       "      <td>3</td>\n",
       "      <td>1</td>\n",
       "      <td>39</td>\n",
       "      <td>15</td>\n",
       "      <td>400</td>\n",
       "      <td>2</td>\n",
       "      <td>1995</td>\n",
       "      <td>0.0</td>\n",
       "      <td>0.0</td>\n",
       "      <td>1.0</td>\n",
       "      <td>...</td>\n",
       "      <td>0.0</td>\n",
       "      <td>0.0</td>\n",
       "      <td>0.0</td>\n",
       "      <td>1.0</td>\n",
       "      <td>0.0</td>\n",
       "      <td>1.0</td>\n",
       "      <td>0.0</td>\n",
       "      <td>0.0</td>\n",
       "      <td>0.0</td>\n",
       "      <td>1.0</td>\n",
       "    </tr>\n",
       "  </tbody>\n",
       "</table>\n",
       "<p>5 rows × 139 columns</p>\n",
       "</div>"
      ],
      "text/plain": [
       "      WEEKOFMONTH  WEEKOFMONTHCLAIMED  AGE  REPNUMBER  DEDUCTIBLE  \\\n",
       "752             4                   2   30         10         400   \n",
       "2155            5                   1   34         14         400   \n",
       "2177            2                   3   30          7         400   \n",
       "2812            4                   2   42         12         400   \n",
       "2304            3                   1   39         15         400   \n",
       "\n",
       "      DRIVERRATING  YEAR  x0_Apr  x0_Aug  x0_Dec  ...  x20_Utility-Collision  \\\n",
       "752              1  1994     0.0     1.0     0.0  ...                    0.0   \n",
       "2155             2  1995     0.0     0.0     0.0  ...                    0.0   \n",
       "2177             4  1996     0.0     0.0     0.0  ...                    0.0   \n",
       "2812             2  1996     0.0     0.0     0.0  ...                    0.0   \n",
       "2304             2  1995     0.0     0.0     1.0  ...                    0.0   \n",
       "\n",
       "      x20_Utility-Liability  x21_Sedan  x21_Sport  x21_Utility  x22_External  \\\n",
       "752                     0.0        1.0        0.0          0.0           1.0   \n",
       "2155                    0.0        0.0        1.0          0.0           1.0   \n",
       "2177                    0.0        1.0        0.0          0.0           1.0   \n",
       "2812                    0.0        0.0        1.0          0.0           1.0   \n",
       "2304                    0.0        0.0        1.0          0.0           1.0   \n",
       "\n",
       "      x22_Internal  x23_All_Perils  x23_Collision  x23_Liability  \n",
       "752            0.0             0.0            1.0            0.0  \n",
       "2155           0.0             0.0            0.0            1.0  \n",
       "2177           0.0             1.0            0.0            0.0  \n",
       "2812           0.0             0.0            0.0            1.0  \n",
       "2304           0.0             0.0            0.0            1.0  \n",
       "\n",
       "[5 rows x 139 columns]"
      ]
     },
     "execution_count": 8,
     "metadata": {},
     "output_type": "execute_result"
    }
   ],
   "source": [
    "# OneHotEncoding on Train (fit & transform)\n",
    "# OneHotEncoding is to be done on Categorical variables.\n",
    "ohe = OneHotEncoder(handle_unknown='ignore',sparse=False)\n",
    "Xcat = pd.DataFrame(ohe.fit_transform(Xtrain[categoricalFeatures]),columns=ohe.get_feature_names(),index=Xtrain.index)\n",
    "Xtrain = pd.concat([Xtrain,Xcat],axis=1)\n",
    "Xtrain.drop(labels=categoricalFeatures,axis=1,inplace=True)\n",
    "Xtrain.sample(5)"
   ]
  },
  {
   "cell_type": "code",
   "execution_count": 9,
   "metadata": {
    "colab": {
     "base_uri": "https://localhost:8080/",
     "height": 317
    },
    "executionInfo": {
     "elapsed": 305,
     "status": "ok",
     "timestamp": 1664149790209,
     "user": {
      "displayName": "shahnaz khan",
      "userId": "14605807324218282944"
     },
     "user_tz": 420
    },
    "id": "WKXBfq2ImHJw",
    "outputId": "d19c2f4b-d004-43df-8f24-4306a7eb202f"
   },
   "outputs": [
    {
     "data": {
      "text/html": [
       "<div>\n",
       "<style scoped>\n",
       "    .dataframe tbody tr th:only-of-type {\n",
       "        vertical-align: middle;\n",
       "    }\n",
       "\n",
       "    .dataframe tbody tr th {\n",
       "        vertical-align: top;\n",
       "    }\n",
       "\n",
       "    .dataframe thead th {\n",
       "        text-align: right;\n",
       "    }\n",
       "</style>\n",
       "<table border=\"1\" class=\"dataframe\">\n",
       "  <thead>\n",
       "    <tr style=\"text-align: right;\">\n",
       "      <th></th>\n",
       "      <th>WEEKOFMONTH</th>\n",
       "      <th>WEEKOFMONTHCLAIMED</th>\n",
       "      <th>AGE</th>\n",
       "      <th>REPNUMBER</th>\n",
       "      <th>DEDUCTIBLE</th>\n",
       "      <th>DRIVERRATING</th>\n",
       "      <th>YEAR</th>\n",
       "      <th>x0_Apr</th>\n",
       "      <th>x0_Aug</th>\n",
       "      <th>x0_Dec</th>\n",
       "      <th>...</th>\n",
       "      <th>x20_Utility-Collision</th>\n",
       "      <th>x20_Utility-Liability</th>\n",
       "      <th>x21_Sedan</th>\n",
       "      <th>x21_Sport</th>\n",
       "      <th>x21_Utility</th>\n",
       "      <th>x22_External</th>\n",
       "      <th>x22_Internal</th>\n",
       "      <th>x23_All_Perils</th>\n",
       "      <th>x23_Collision</th>\n",
       "      <th>x23_Liability</th>\n",
       "    </tr>\n",
       "  </thead>\n",
       "  <tbody>\n",
       "    <tr>\n",
       "      <th>6181</th>\n",
       "      <td>2</td>\n",
       "      <td>2</td>\n",
       "      <td>33</td>\n",
       "      <td>4</td>\n",
       "      <td>400</td>\n",
       "      <td>1</td>\n",
       "      <td>1996</td>\n",
       "      <td>0.0</td>\n",
       "      <td>0.0</td>\n",
       "      <td>0.0</td>\n",
       "      <td>...</td>\n",
       "      <td>0.0</td>\n",
       "      <td>0.0</td>\n",
       "      <td>1.0</td>\n",
       "      <td>0.0</td>\n",
       "      <td>0.0</td>\n",
       "      <td>1.0</td>\n",
       "      <td>0.0</td>\n",
       "      <td>0.0</td>\n",
       "      <td>1.0</td>\n",
       "      <td>0.0</td>\n",
       "    </tr>\n",
       "    <tr>\n",
       "      <th>2658</th>\n",
       "      <td>4</td>\n",
       "      <td>4</td>\n",
       "      <td>31</td>\n",
       "      <td>13</td>\n",
       "      <td>400</td>\n",
       "      <td>1</td>\n",
       "      <td>1996</td>\n",
       "      <td>0.0</td>\n",
       "      <td>0.0</td>\n",
       "      <td>1.0</td>\n",
       "      <td>...</td>\n",
       "      <td>0.0</td>\n",
       "      <td>0.0</td>\n",
       "      <td>1.0</td>\n",
       "      <td>0.0</td>\n",
       "      <td>0.0</td>\n",
       "      <td>1.0</td>\n",
       "      <td>0.0</td>\n",
       "      <td>0.0</td>\n",
       "      <td>1.0</td>\n",
       "      <td>0.0</td>\n",
       "    </tr>\n",
       "    <tr>\n",
       "      <th>4434</th>\n",
       "      <td>2</td>\n",
       "      <td>3</td>\n",
       "      <td>61</td>\n",
       "      <td>1</td>\n",
       "      <td>400</td>\n",
       "      <td>3</td>\n",
       "      <td>1994</td>\n",
       "      <td>0.0</td>\n",
       "      <td>0.0</td>\n",
       "      <td>0.0</td>\n",
       "      <td>...</td>\n",
       "      <td>0.0</td>\n",
       "      <td>0.0</td>\n",
       "      <td>1.0</td>\n",
       "      <td>0.0</td>\n",
       "      <td>0.0</td>\n",
       "      <td>1.0</td>\n",
       "      <td>0.0</td>\n",
       "      <td>1.0</td>\n",
       "      <td>0.0</td>\n",
       "      <td>0.0</td>\n",
       "    </tr>\n",
       "    <tr>\n",
       "      <th>560</th>\n",
       "      <td>4</td>\n",
       "      <td>4</td>\n",
       "      <td>63</td>\n",
       "      <td>7</td>\n",
       "      <td>400</td>\n",
       "      <td>2</td>\n",
       "      <td>1995</td>\n",
       "      <td>0.0</td>\n",
       "      <td>0.0</td>\n",
       "      <td>0.0</td>\n",
       "      <td>...</td>\n",
       "      <td>0.0</td>\n",
       "      <td>0.0</td>\n",
       "      <td>1.0</td>\n",
       "      <td>0.0</td>\n",
       "      <td>0.0</td>\n",
       "      <td>1.0</td>\n",
       "      <td>0.0</td>\n",
       "      <td>1.0</td>\n",
       "      <td>0.0</td>\n",
       "      <td>0.0</td>\n",
       "    </tr>\n",
       "    <tr>\n",
       "      <th>7482</th>\n",
       "      <td>4</td>\n",
       "      <td>4</td>\n",
       "      <td>33</td>\n",
       "      <td>7</td>\n",
       "      <td>400</td>\n",
       "      <td>1</td>\n",
       "      <td>1996</td>\n",
       "      <td>0.0</td>\n",
       "      <td>0.0</td>\n",
       "      <td>0.0</td>\n",
       "      <td>...</td>\n",
       "      <td>0.0</td>\n",
       "      <td>0.0</td>\n",
       "      <td>0.0</td>\n",
       "      <td>1.0</td>\n",
       "      <td>0.0</td>\n",
       "      <td>1.0</td>\n",
       "      <td>0.0</td>\n",
       "      <td>0.0</td>\n",
       "      <td>0.0</td>\n",
       "      <td>1.0</td>\n",
       "    </tr>\n",
       "  </tbody>\n",
       "</table>\n",
       "<p>5 rows × 139 columns</p>\n",
       "</div>"
      ],
      "text/plain": [
       "      WEEKOFMONTH  WEEKOFMONTHCLAIMED  AGE  REPNUMBER  DEDUCTIBLE  \\\n",
       "6181            2                   2   33          4         400   \n",
       "2658            4                   4   31         13         400   \n",
       "4434            2                   3   61          1         400   \n",
       "560             4                   4   63          7         400   \n",
       "7482            4                   4   33          7         400   \n",
       "\n",
       "      DRIVERRATING  YEAR  x0_Apr  x0_Aug  x0_Dec  ...  x20_Utility-Collision  \\\n",
       "6181             1  1996     0.0     0.0     0.0  ...                    0.0   \n",
       "2658             1  1996     0.0     0.0     1.0  ...                    0.0   \n",
       "4434             3  1994     0.0     0.0     0.0  ...                    0.0   \n",
       "560              2  1995     0.0     0.0     0.0  ...                    0.0   \n",
       "7482             1  1996     0.0     0.0     0.0  ...                    0.0   \n",
       "\n",
       "      x20_Utility-Liability  x21_Sedan  x21_Sport  x21_Utility  x22_External  \\\n",
       "6181                    0.0        1.0        0.0          0.0           1.0   \n",
       "2658                    0.0        1.0        0.0          0.0           1.0   \n",
       "4434                    0.0        1.0        0.0          0.0           1.0   \n",
       "560                     0.0        1.0        0.0          0.0           1.0   \n",
       "7482                    0.0        0.0        1.0          0.0           1.0   \n",
       "\n",
       "      x22_Internal  x23_All_Perils  x23_Collision  x23_Liability  \n",
       "6181           0.0             0.0            1.0            0.0  \n",
       "2658           0.0             0.0            1.0            0.0  \n",
       "4434           0.0             1.0            0.0            0.0  \n",
       "560            0.0             1.0            0.0            0.0  \n",
       "7482           0.0             0.0            0.0            1.0  \n",
       "\n",
       "[5 rows x 139 columns]"
      ]
     },
     "execution_count": 9,
     "metadata": {},
     "output_type": "execute_result"
    }
   ],
   "source": [
    "# OneHotEncoding on Test (only transform)\n",
    "# OneHotEncoding is to be done on Categorical variables.\n",
    "Xcat = pd.DataFrame(ohe.transform(Xtest[categoricalFeatures]),columns=ohe.get_feature_names(),index=Xtest.index)\n",
    "Xtest = pd.concat([Xtest,Xcat],axis=1)\n",
    "Xtest.drop(labels=categoricalFeatures,axis=1,inplace=True)\n",
    "Xtest.sample(5)"
   ]
  },
  {
   "cell_type": "code",
   "execution_count": 10,
   "metadata": {
    "colab": {
     "base_uri": "https://localhost:8080/"
    },
    "executionInfo": {
     "elapsed": 149,
     "status": "ok",
     "timestamp": 1664149792895,
     "user": {
      "displayName": "shahnaz khan",
      "userId": "14605807324218282944"
     },
     "user_tz": 420
    },
    "id": "WoJIlhutmHMq",
    "outputId": "0d50bfb8-b8df-4875-8ea5-573400a7413d"
   },
   "outputs": [
    {
     "data": {
      "text/plain": [
       "DecisionTreeClassifier()"
      ]
     },
     "execution_count": 10,
     "metadata": {},
     "output_type": "execute_result"
    }
   ],
   "source": [
    "dt = DecisionTreeClassifier()\n",
    "dt.fit(Xtrain, Ytrain)"
   ]
  },
  {
   "cell_type": "code",
   "execution_count": 11,
   "metadata": {
    "colab": {
     "base_uri": "https://localhost:8080/"
    },
    "executionInfo": {
     "elapsed": 543,
     "status": "ok",
     "timestamp": 1664149795679,
     "user": {
      "displayName": "shahnaz khan",
      "userId": "14605807324218282944"
     },
     "user_tz": 420
    },
    "id": "FUgyqFcYojrV",
    "outputId": "b808807b-84be-4eed-df5e-ad57981f0562"
   },
   "outputs": [
    {
     "data": {
      "text/plain": [
       "RandomForestClassifier()"
      ]
     },
     "execution_count": 11,
     "metadata": {},
     "output_type": "execute_result"
    }
   ],
   "source": [
    "rf = RandomForestClassifier()\n",
    "rf.fit(Xtrain, Ytrain)"
   ]
  },
  {
   "cell_type": "code",
   "execution_count": 12,
   "metadata": {
    "colab": {
     "base_uri": "https://localhost:8080/"
    },
    "executionInfo": {
     "elapsed": 919,
     "status": "ok",
     "timestamp": 1664149799452,
     "user": {
      "displayName": "shahnaz khan",
      "userId": "14605807324218282944"
     },
     "user_tz": 420
    },
    "id": "Bv-B6oECojwE",
    "outputId": "ca34500f-2cb1-4e96-b03b-11564a3d0f92"
   },
   "outputs": [
    {
     "name": "stdout",
     "output_type": "stream",
     "text": [
      "Train Accuracy: 1.0\n",
      "Test Accuracy: 0.8805542653661558\n",
      "Confusion Matrix for Decision Tree:\n",
      "[[10931  1489]\n",
      " [   54   444]]\n",
      "Max Depth 25\n",
      "Leaf 290\n",
      "Printing the precision and recall, among other metrics\n",
      "              precision    recall  f1-score   support\n",
      "\n",
      "          No       1.00      0.88      0.93     12420\n",
      "         Yes       0.23      0.89      0.37       498\n",
      "\n",
      "    accuracy                           0.88     12918\n",
      "   macro avg       0.61      0.89      0.65     12918\n",
      "weighted avg       0.97      0.88      0.91     12918\n",
      "\n"
     ]
    }
   ],
   "source": [
    "X_Pred = dt.predict(Xtest)\n",
    "XPred = dt.predict(Xtrain)\n",
    "#Model Accuracy\n",
    "print(\"Train Accuracy:\", metrics.accuracy_score(Ytrain,XPred))\n",
    "print(\"Test Accuracy:\", metrics.accuracy_score(Ytest,X_Pred))\n",
    "print(\"Confusion Matrix for Decision Tree:\")\n",
    "print(confusion_matrix(Ytest,X_Pred))\n",
    "print(\"Max Depth\",dt.get_depth())\n",
    "print(\"Leaf\",dt.get_n_leaves())\n",
    "print('Printing the precision and recall, among other metrics')\n",
    "print(metrics.classification_report(Ytest, X_Pred))"
   ]
  },
  {
   "cell_type": "code",
   "execution_count": 13,
   "metadata": {
    "colab": {
     "base_uri": "https://localhost:8080/"
    },
    "executionInfo": {
     "elapsed": 2090,
     "status": "ok",
     "timestamp": 1664150219094,
     "user": {
      "displayName": "shahnaz khan",
      "userId": "14605807324218282944"
     },
     "user_tz": 420
    },
    "id": "Jqu4blt4ojyq",
    "outputId": "e0fd73b4-448a-4958-ebac-8c890a92b16e"
   },
   "outputs": [
    {
     "name": "stdout",
     "output_type": "stream",
     "text": [
      "Train Accuracy: 1.0\n",
      "Test Accuracy: 0.9613717293698715\n",
      "Confusion Matrix for randomforest Tree:\n",
      "[[12003   417]\n",
      " [   82   416]]\n",
      "Printing the precision and recall, among other metrics\n",
      "              precision    recall  f1-score   support\n",
      "\n",
      "          No       0.99      0.97      0.98     12420\n",
      "         Yes       0.50      0.84      0.63       498\n",
      "\n",
      "    accuracy                           0.96     12918\n",
      "   macro avg       0.75      0.90      0.80     12918\n",
      "weighted avg       0.97      0.96      0.97     12918\n",
      "\n"
     ]
    }
   ],
   "source": [
    "X_Pred1 = rf.predict(Xtest)\n",
    "XPred1 = rf.predict(Xtrain)\n",
    "#Model Accuracy\n",
    "print(\"Train Accuracy:\", metrics.accuracy_score(Ytrain,XPred1))\n",
    "print(\"Test Accuracy:\", metrics.accuracy_score(Ytest,X_Pred1))\n",
    "print(\"Confusion Matrix for randomforest Tree:\")\n",
    "print(confusion_matrix(Ytest,X_Pred1))\n",
    "print('Printing the precision and recall, among other metrics')\n",
    "print(metrics.classification_report(Ytest, X_Pred1))"
   ]
  },
  {
   "cell_type": "markdown",
   "metadata": {
    "id": "ZsxXgxOwpmr2"
   },
   "source": [
    "Decision Tree: Random & Grid Search"
   ]
  },
  {
   "cell_type": "code",
   "execution_count": 14,
   "metadata": {
    "colab": {
     "base_uri": "https://localhost:8080/"
    },
    "executionInfo": {
     "elapsed": 6694,
     "status": "ok",
     "timestamp": 1664152576207,
     "user": {
      "displayName": "shahnaz khan",
      "userId": "14605807324218282944"
     },
     "user_tz": 420
    },
    "id": "BdI0GelEpkdd",
    "outputId": "7b8e95f8-b066-47b4-ad8e-fef5ab351419"
   },
   "outputs": [
    {
     "name": "stdout",
     "output_type": "stream",
     "text": [
      "RandomizedSearchCV-Decision tree\n",
      "{'min_samples_leaf': 50, 'max_depth': 18, 'criterion': 'entropy'}\n",
      "accuracy Score for Decision Tree:0.884115\n",
      "--- 5.380735158920288 seconds ---\n"
     ]
    }
   ],
   "source": [
    "#Hyperparameter tuning done for decision tree classifier\n",
    "\n",
    "#RANDOM SEARCH--------------------------------------------\n",
    "\n",
    "import time\n",
    "start_time = time.time()\n",
    "\n",
    "print(\"RandomizedSearchCV-Decision tree\")\n",
    "parameters={'min_samples_leaf' : range(10,300,10),'max_depth': \n",
    "            range(4,30,2),'criterion':['gini','entropy']}\n",
    "dt_random = RandomizedSearchCV(dt,parameters,n_iter=25,cv=5)\n",
    "dt_random.fit(Xtrain, Ytrain)\n",
    "grid_parm=dt_random.best_params_\n",
    "print(grid_parm)\n",
    "print(\"accuracy Score for Decision Tree:{0:6f}\".\n",
    "      format(dt_random.score(Xtest,Ytest)))\n",
    "\n",
    "print(\"--- %s seconds ---\" % (time.time() - start_time))"
   ]
  },
  {
   "cell_type": "code",
   "execution_count": 15,
   "metadata": {
    "colab": {
     "base_uri": "https://localhost:8080/"
    },
    "executionInfo": {
     "elapsed": 88293,
     "status": "ok",
     "timestamp": 1664152668411,
     "user": {
      "displayName": "shahnaz khan",
      "userId": "14605807324218282944"
     },
     "user_tz": 420
    },
    "id": "fsp_cahCpkf_",
    "outputId": "7e13712e-e02e-435e-87c6-c2830917f99f"
   },
   "outputs": [
    {
     "name": "stdout",
     "output_type": "stream",
     "text": [
      "GridSearchCV-Decision tree\n",
      "{'criterion': 'entropy', 'max_depth': 4, 'min_samples_leaf': 20}\n",
      "accuracy Score for Decision Tree:0.929246\n",
      "--- 214.81841945648193 seconds ---\n"
     ]
    }
   ],
   "source": [
    "#GRID SEARCH----------------------------------------\n",
    "\n",
    "import time\n",
    "start_time = time.time()\n",
    "\n",
    "print(\"GridSearchCV-Decision tree\")\n",
    "dt_grid = GridSearchCV(dt,parameters)\n",
    "dt_grid.fit(Xtrain, Ytrain)\n",
    "grid_parm1=dt_grid.best_params_\n",
    "print(grid_parm1)\n",
    "print(\"accuracy Score for Decision Tree:{0:6f}\".\n",
    "      format(dt_grid.score(Xtest,Ytest)))\n",
    "\n",
    "print(\"--- %s seconds ---\" % (time.time() - start_time))"
   ]
  },
  {
   "cell_type": "code",
   "execution_count": 16,
   "metadata": {
    "executionInfo": {
     "elapsed": 1452,
     "status": "ok",
     "timestamp": 1664152673899,
     "user": {
      "displayName": "shahnaz khan",
      "userId": "14605807324218282944"
     },
     "user_tz": 420
    },
    "id": "5qebKqnlpkiH"
   },
   "outputs": [],
   "source": [
    "#Using the parameters obtained from HyperParameterTuning in the DecisionTreeClassifier \n",
    "dtRand = DecisionTreeClassifier(**grid_parm)\n",
    "dtGrid = DecisionTreeClassifier(**grid_parm1)\n",
    "\n",
    "dtRand.fit(Xtrain,Ytrain)\n",
    "dtRand_predict = dtRand.predict(Xtest)\n",
    "dtGrid.fit(Xtrain,Ytrain)\n",
    "dtGrid_predict = dtGrid.predict(Xtest)"
   ]
  },
  {
   "cell_type": "code",
   "execution_count": 17,
   "metadata": {
    "colab": {
     "base_uri": "https://localhost:8080/"
    },
    "executionInfo": {
     "elapsed": 1061,
     "status": "ok",
     "timestamp": 1664152677420,
     "user": {
      "displayName": "shahnaz khan",
      "userId": "14605807324218282944"
     },
     "user_tz": 420
    },
    "id": "rK7heVWJpkk2",
    "outputId": "6c87a247-a3fa-4d4a-dd29-0a0810f03938"
   },
   "outputs": [
    {
     "name": "stdout",
     "output_type": "stream",
     "text": [
      "Test Accuracy: 0.8841151881096145\n",
      "Confusion Matrix for Decision Tree:\n",
      "[[11255  1165]\n",
      " [  332   166]]\n",
      "Printing the precision and recall, among other metrics\n",
      "              precision    recall  f1-score   support\n",
      "\n",
      "          No       0.97      0.91      0.94     12420\n",
      "         Yes       0.12      0.33      0.18       498\n",
      "\n",
      "    accuracy                           0.88     12918\n",
      "   macro avg       0.55      0.62      0.56     12918\n",
      "weighted avg       0.94      0.88      0.91     12918\n",
      "\n",
      "[0.86923077 0.76153846 0.76730769 0.675      0.5875     0.5\n",
      " 0.5        0.5        0.55       0.6025641 ]\n"
     ]
    }
   ],
   "source": [
    "# Accuracy for Decision Tree using Random Search CV for Hyperparameter Tuning\n",
    "\n",
    "print(\"Test Accuracy:\", metrics.accuracy_score(Ytest,dtRand_predict))\n",
    "print(\"Confusion Matrix for Decision Tree:\")\n",
    "print(confusion_matrix(Ytest,dtRand_predict))\n",
    "print('Printing the precision and recall, among other metrics')\n",
    "print(metrics.classification_report(Ytest, dtRand_predict))\n",
    "clf_cv_score = cross_val_score(dtRand, Xtrain, Ytrain, cv=10, scoring=\"balanced_accuracy\")\n",
    "print(clf_cv_score)"
   ]
  },
  {
   "cell_type": "code",
   "execution_count": 18,
   "metadata": {
    "colab": {
     "base_uri": "https://localhost:8080/"
    },
    "executionInfo": {
     "elapsed": 1286,
     "status": "ok",
     "timestamp": 1664152684284,
     "user": {
      "displayName": "shahnaz khan",
      "userId": "14605807324218282944"
     },
     "user_tz": 420
    },
    "id": "MoZ-aq5Kp0SL",
    "outputId": "72063b28-f8e0-461f-8d05-c6bcd0f5e161"
   },
   "outputs": [
    {
     "name": "stdout",
     "output_type": "stream",
     "text": [
      "Test Accuracy: 0.9292460133147546\n",
      "Confusion Matrix for Decision Tree:\n",
      "[[11887   533]\n",
      " [  381   117]]\n",
      "Printing the precision and recall, among other metrics\n",
      "              precision    recall  f1-score   support\n",
      "\n",
      "          No       0.97      0.96      0.96     12420\n",
      "         Yes       0.18      0.23      0.20       498\n",
      "\n",
      "    accuracy                           0.93     12918\n",
      "   macro avg       0.57      0.60      0.58     12918\n",
      "weighted avg       0.94      0.93      0.93     12918\n",
      "\n",
      "[0.89038462 0.76153846 0.88173077 0.675      0.5875     0.5\n",
      " 0.5        0.5        0.5375     0.57692308]\n"
     ]
    }
   ],
   "source": [
    "# Accuracy for Decision Tree using Grid Search for Hyperparameter Tuning\n",
    "\n",
    "print(\"Test Accuracy:\", metrics.accuracy_score(Ytest,dtGrid_predict))\n",
    "print(\"Confusion Matrix for Decision Tree:\")\n",
    "print(confusion_matrix(Ytest,dtGrid_predict))\n",
    "print('Printing the precision and recall, among other metrics')\n",
    "print(metrics.classification_report(Ytest, dtGrid_predict))\n",
    "clf_cv_score = cross_val_score(dtGrid, Xtrain, Ytrain, cv=10, scoring=\"balanced_accuracy\")\n",
    "print(clf_cv_score)"
   ]
  },
  {
   "cell_type": "code",
   "execution_count": null,
   "metadata": {
    "id": "6GbRCgePp0bk"
   },
   "outputs": [],
   "source": []
  },
  {
   "cell_type": "markdown",
   "metadata": {
    "id": "EuvBD_hQp4Y4"
   },
   "source": [
    "Random Forest: Random & Grid Search"
   ]
  },
  {
   "cell_type": "code",
   "execution_count": 19,
   "metadata": {
    "colab": {
     "base_uri": "https://localhost:8080/"
    },
    "executionInfo": {
     "elapsed": 22649,
     "status": "ok",
     "timestamp": 1664153104930,
     "user": {
      "displayName": "shahnaz khan",
      "userId": "14605807324218282944"
     },
     "user_tz": 420
    },
    "id": "rk4SasKCp0kt",
    "outputId": "2f575f5c-bccf-4afd-bb1b-5cf46461fbae"
   },
   "outputs": [
    {
     "name": "stdout",
     "output_type": "stream",
     "text": [
      "RandomizedSearchCV-Random forest\n",
      "{'n_estimators': 30, 'min_samples_leaf': 20, 'max_features': 30, 'max_depth': 7}\n",
      "accuracy Score for Decision Tree:0.929091\n",
      "--- 26.630688667297363 seconds ---\n"
     ]
    }
   ],
   "source": [
    "#Hyperparameter tuning done for random forest classifier\n",
    "\n",
    "#RANDOM SEARCH--------------------------------------------\n",
    "\n",
    "import time\n",
    "start_time = time.time()\n",
    "\n",
    "print(\"RandomizedSearchCV-Random forest\")\n",
    "rand_parameters={'min_samples_leaf' : range(10,100,10),'max_depth': \n",
    "            range(1,10,2),'max_features':[10,20,30],'n_estimators':[20,30,40]}\n",
    "rf_random = RandomizedSearchCV(rf,rand_parameters,n_iter=25,cv=5)\n",
    "rf_random.fit(Xtrain, Ytrain)\n",
    "grid_parm=rf_random.best_params_\n",
    "print(grid_parm)\n",
    "print(\"accuracy Score for Decision Tree:{0:6f}\".\n",
    "      format(rf_random.score(Xtest,Ytest)))\n",
    "\n",
    "print(\"--- %s seconds ---\" % (time.time() - start_time))"
   ]
  },
  {
   "cell_type": "code",
   "execution_count": 20,
   "metadata": {
    "colab": {
     "base_uri": "https://localhost:8080/"
    },
    "executionInfo": {
     "elapsed": 194120,
     "status": "ok",
     "timestamp": 1664153305263,
     "user": {
      "displayName": "shahnaz khan",
      "userId": "14605807324218282944"
     },
     "user_tz": 420
    },
    "id": "3KuuL8qBp0nH",
    "outputId": "b7a2dfac-5820-4fcb-a084-9da639356288"
   },
   "outputs": [
    {
     "name": "stdout",
     "output_type": "stream",
     "text": [
      "GridSearchCV-Random Forest\n",
      "{'max_depth': 7, 'max_features': 30, 'min_samples_leaf': 30, 'n_estimators': 30}\n",
      "accuracy Score for Decision Tree:0.931723\n",
      "--- 466.13700127601624 seconds ---\n"
     ]
    }
   ],
   "source": [
    "import time\n",
    "start_time = time.time()\n",
    "\n",
    "print(\"GridSearchCV-Random Forest\")\n",
    "rf_grid = GridSearchCV(rf,rand_parameters)\n",
    "rf_grid.fit(Xtrain, Ytrain)\n",
    "grid_parm1=rf_grid.best_params_\n",
    "print(grid_parm1)\n",
    "print(\"accuracy Score for Decision Tree:{0:6f}\".\n",
    "      format(rf_grid.score(Xtest,Ytest)))\n",
    "\n",
    "print(\"--- %s seconds ---\" % (time.time() - start_time))"
   ]
  },
  {
   "cell_type": "code",
   "execution_count": 21,
   "metadata": {
    "executionInfo": {
     "elapsed": 942,
     "status": "ok",
     "timestamp": 1664153354199,
     "user": {
      "displayName": "shahnaz khan",
      "userId": "14605807324218282944"
     },
     "user_tz": 420
    },
    "id": "k9BNDnGnp0qq"
   },
   "outputs": [],
   "source": [
    "#Using the parameters obtained from HyperParameterTuning in the RandomForestClassifier \n",
    "rfRand = RandomForestClassifier(**grid_parm)\n",
    "rfGrid = RandomForestClassifier(**grid_parm1)\n",
    "\n",
    "rfRand.fit(Xtrain,Ytrain)\n",
    "rfRand_predict = rfRand.predict(Xtest)\n",
    "rfGrid.fit(Xtrain,Ytrain)\n",
    "rfGrid_predict = rfGrid.predict(Xtest)"
   ]
  },
  {
   "cell_type": "code",
   "execution_count": 22,
   "metadata": {
    "colab": {
     "base_uri": "https://localhost:8080/"
    },
    "executionInfo": {
     "elapsed": 2161,
     "status": "ok",
     "timestamp": 1664153391589,
     "user": {
      "displayName": "shahnaz khan",
      "userId": "14605807324218282944"
     },
     "user_tz": 420
    },
    "id": "6c_c4gbJp0tF",
    "outputId": "b1ced1c5-a7eb-43c7-e28f-06c6bab8ed68"
   },
   "outputs": [
    {
     "name": "stdout",
     "output_type": "stream",
     "text": [
      "Test Accuracy: 0.9358259792537544\n",
      "Confusion Matrix for Decision Tree:\n",
      "[[11980   440]\n",
      " [  389   109]]\n",
      "Printing the precision and recall, among other metrics\n",
      "              precision    recall  f1-score   support\n",
      "\n",
      "          No       0.97      0.96      0.97     12420\n",
      "         Yes       0.20      0.22      0.21       498\n",
      "\n",
      "    accuracy                           0.94     12918\n",
      "   macro avg       0.58      0.59      0.59     12918\n",
      "weighted avg       0.94      0.94      0.94     12918\n",
      "\n",
      "[0.76634615 0.75096154 0.80288462 0.6625     0.575      0.5\n",
      " 0.5        0.5        0.525      0.57692308]\n"
     ]
    }
   ],
   "source": [
    "# Accuracy for Random Forest using Random Search CV for Hyperparameter Tuning\n",
    "\n",
    "print(\"Test Accuracy:\", metrics.accuracy_score(Ytest,rfRand_predict))\n",
    "print(\"Confusion Matrix for Decision Tree:\")\n",
    "print(confusion_matrix(Ytest,rfRand_predict))\n",
    "print('Printing the precision and recall, among other metrics')\n",
    "print(metrics.classification_report(Ytest, rfRand_predict))\n",
    "clf_cv_score = cross_val_score(rfRand, Xtrain, Ytrain, cv=10, scoring=\"balanced_accuracy\")\n",
    "print(clf_cv_score)"
   ]
  },
  {
   "cell_type": "code",
   "execution_count": 23,
   "metadata": {
    "colab": {
     "base_uri": "https://localhost:8080/"
    },
    "executionInfo": {
     "elapsed": 551,
     "status": "ok",
     "timestamp": 1664153399838,
     "user": {
      "displayName": "shahnaz khan",
      "userId": "14605807324218282944"
     },
     "user_tz": 420
    },
    "id": "21bWJZzmp0xg",
    "outputId": "13832c71-918a-43fe-9032-0c8ead586c80"
   },
   "outputs": [
    {
     "name": "stdout",
     "output_type": "stream",
     "text": [
      "Test Accuracy: 0.9301749496826134\n",
      "Confusion Matrix for Decision Tree:\n",
      "[[11900   520]\n",
      " [  382   116]]\n",
      "Printing the precision and recall, among other metrics\n",
      "              precision    recall  f1-score   support\n",
      "\n",
      "          No       0.97      0.96      0.96     12420\n",
      "         Yes       0.18      0.23      0.20       498\n",
      "\n",
      "    accuracy                           0.93     12918\n",
      "   macro avg       0.58      0.60      0.58     12918\n",
      "weighted avg       0.94      0.93      0.93     12918\n",
      "\n"
     ]
    }
   ],
   "source": [
    "# Accuracy for Random Forest using Grid Search for Hyperparameter Tuning\n",
    "\n",
    "print(\"Test Accuracy:\", metrics.accuracy_score(Ytest,rfGrid_predict))\n",
    "print(\"Confusion Matrix for Decision Tree:\")\n",
    "print(confusion_matrix(Ytest,rfGrid_predict))\n",
    "print('Printing the precision and recall, among other metrics')\n",
    "print(metrics.classification_report(Ytest, rfGrid_predict))"
   ]
  }
 ],
 "metadata": {
  "accelerator": "GPU",
  "colab": {
   "collapsed_sections": [],
   "provenance": []
  },
  "kernelspec": {
   "display_name": "Python 3 (ipykernel)",
   "language": "python",
   "name": "python3"
  },
  "language_info": {
   "codemirror_mode": {
    "name": "ipython",
    "version": 3
   },
   "file_extension": ".py",
   "mimetype": "text/x-python",
   "name": "python",
   "nbconvert_exporter": "python",
   "pygments_lexer": "ipython3",
   "version": "3.9.12"
  }
 },
 "nbformat": 4,
 "nbformat_minor": 1
}
